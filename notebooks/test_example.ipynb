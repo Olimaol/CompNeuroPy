{
  "nbformat": 4,
  "nbformat_minor": 0,
  "metadata": {
    "colab": {
      "provenance": [],
      "toc_visible": true,
      "authorship_tag": "ABX9TyOZMLYfTMYkRkseiKuZBo6p",
      "include_colab_link": true
    },
    "kernelspec": {
      "name": "python3",
      "display_name": "Python 3"
    },
    "language_info": {
      "name": "python"
    }
  },
  "cells": [
    {
      "cell_type": "markdown",
      "metadata": {
        "id": "view-in-github",
        "colab_type": "text"
      },
      "source": [
        "<a href=\"https://colab.research.google.com/github/Olimaol/CompNeuroPy/blob/olimaol_develop/notebooks/test_example.ipynb\" target=\"_parent\"><img src=\"https://colab.research.google.com/assets/colab-badge.svg\" alt=\"Open In Colab\"/></a>"
      ]
    },
    {
      "cell_type": "markdown",
      "source": [
        "#Install CompNeuroPy and ANNarchy"
      ],
      "metadata": {
        "id": "MQwRmyFdmUuD"
      }
    },
    {
      "cell_type": "code",
      "source": [
        "!pip install CompNeuroPy\n",
        "!git clone https://github.com/ANNarchy/ANNarchy && cd ANNarchy && git checkout develop && pip install .\n",
        "!rm -rf ANNarchy"
      ],
      "metadata": {
        "collapsed": true,
        "id": "VGC0ujzTm-z3"
      },
      "execution_count": null,
      "outputs": []
    },
    {
      "cell_type": "markdown",
      "source": [
        "#Import packages"
      ],
      "metadata": {
        "id": "Mcoz2oq76flU"
      }
    },
    {
      "cell_type": "code",
      "source": [
        "from IPython.display import Image, display"
      ],
      "metadata": {
        "id": "bMhApHy-6iJ3"
      },
      "execution_count": null,
      "outputs": []
    },
    {
      "cell_type": "markdown",
      "source": [
        "#Run Code"
      ],
      "metadata": {
        "id": "O7uDvr2W7UZ_"
      }
    },
    {
      "cell_type": "code",
      "source": [
        "from ANNarchy import Population, setup, simulate, compile\n",
        "from CompNeuroPy import (\n",
        "    CompNeuroMonitors,\n",
        "    PlotRecordings,\n",
        ")\n",
        "from CompNeuroPy.neuron_models import Izhikevich2007\n",
        "\n",
        "\n",
        "### setup ANNarchy timestep and create results folder\n",
        "setup(dt=0.1)\n",
        "\n",
        "### first we create two populations, each consist of 1 neuron\n",
        "Population(1, neuron=Izhikevich2007(I_app=0), name=\"my_pop1\")\n",
        "Population(1, neuron=Izhikevich2007(I_app=52), name=\"my_pop2\")\n",
        "\n",
        "### compile\n",
        "compile()\n",
        "\n",
        "### after compilation we can define the monitors using the monitor_dictionary\n",
        "### and the CompNeuroMonitors class\n",
        "### for my_pop1 we use a recording period of 2 ms\n",
        "### for my_pop2 we do not give a recording preiod, therefore record every timestep\n",
        "monitor_dictionary = {\"my_pop1;2\": [\"v\", \"spike\"], \"my_pop2\": [\"v\"]}\n",
        "mon = CompNeuroMonitors(monitor_dictionary)\n",
        "\n",
        "### In this part we demonstrate starting/pausing all monitors\n",
        "### simulate for 100 ms [0, 100]\n",
        "simulate(100)\n",
        "\n",
        "### start all monitors and simulate for 100 ms [100, 200]\n",
        "mon.start()\n",
        "simulate(100)\n",
        "\n",
        "### pause all monitors and simulate for 100 ms [200, 300]\n",
        "mon.pause()\n",
        "simulate(100)\n",
        "\n",
        "### In this part we demonstrate starting single monitors\n",
        "### start only monitor for my_pop1 and simulate for 100 ms [300, 400]\n",
        "mon.start(compartment_list=[\"my_pop1\"])\n",
        "simulate(100)\n",
        "\n",
        "### start all monitors and simulate for 100 ms [400, 500]\n",
        "mon.start()\n",
        "simulate(100)\n",
        "\n",
        "### In this part we demonstrate pausing single monitors\n",
        "### pause monitor for my_pop1 and simulate for 100 ms [500, 600]\n",
        "mon.pause(compartment_list=[\"my_pop1\"])\n",
        "simulate(100)\n",
        "\n",
        "### start all monitors and simulate for 100 ms [600, 700]\n",
        "mon.start()\n",
        "simulate(100)\n",
        "\n",
        "### In this part we demonstrate chunking recordings by reset\n",
        "### reset WITHOUT model, creating new chunk --> first chunk [0, 700]\n",
        "### also in this chunk do not record the first 100 ms\n",
        "### WITHOUT model --> time continues at 700 ms [700, 800]\n",
        "mon.reset(model=False)\n",
        "mon.pause()\n",
        "simulate(100)\n",
        "\n",
        "### start all monitors and simulate for 700 ms [800, 1500]\n",
        "mon.start()\n",
        "simulate(700)\n",
        "\n",
        "### reset WITH model, creating new chunk --> second chunk [700, 1500]\n",
        "### in third chunk time is reset to 0 ms\n",
        "### also in this chunk do not record the first 100 ms [0, 100]\n",
        "mon.reset(model=True)\n",
        "mon.pause()\n",
        "simulate(100)\n",
        "\n",
        "### start all monitors and simulate for 700 ms [100, 800]\n",
        "mon.start()\n",
        "simulate(700)\n",
        "\n",
        "### Next we demonstrate getting recordings DURING SIMULATION by using\n",
        "### get_recordings_and_clear\n",
        "### this also resets the monitors back to their initialized state, i.e. there are no\n",
        "### recordings and they are not started yet\n",
        "### recordings1 consists of 3 chunks, third chunk [0, 800]\n",
        "recordings1, recording_times1 = mon.get_recordings_and_clear()\n",
        "\n",
        "### Now continue simulation, creating NEW RECORDINGS, monitors are not started yet\n",
        "### model was not reset, so time continues at 800 ms\n",
        "### simulate for 100 ms [800, 900]\n",
        "simulate(100)\n",
        "\n",
        "### start all monitors and simulate for 100 ms [900, 1000]\n",
        "mon.start()\n",
        "simulate(100)\n",
        "\n",
        "### reset monitors and model, creating new chunk --> first chunk [800, 1000]\n",
        "### simulate for 100 ms [0, 100]\n",
        "mon.reset(model=True)\n",
        "simulate(100)\n",
        "\n",
        "### get recordings using get_recordings_and_clear\n",
        "### this time directly start recording again\n",
        "### recordings2 consists of 2 chunks, second chunk [0, 100]\n",
        "recordings2, recording_times2 = mon.get_recordings_and_clear()\n",
        "\n",
        "### Now continue simulation, creating NEW RECORDINGS\n",
        "### directly start monitors and reset model so time is reset to 0 ms\n",
        "### simulate for 100 ms [0, 100]\n",
        "mon.start()\n",
        "mon.reset(model=True)\n",
        "simulate(100)\n",
        "\n",
        "### get recordings the normal way (simultions are finished)\n",
        "### recordings3 consists of 1 chunk [0, 100]\n",
        "recordings3 = mon.get_recordings()\n",
        "recording_times3 = mon.get_recording_times()\n",
        "\n",
        "### print the idx and time lims of the recordings and the sizes of the recorded\n",
        "### arrays\n",
        "print(\"#################### ALL RECORDINGS INFO ####################\")\n",
        "recordings_list = [recordings1, recordings2, recordings3]\n",
        "for all_times_idx, all_times in enumerate(\n",
        "    [recording_times1.all(), recording_times2.all(), recording_times3.all()]\n",
        "):\n",
        "    print(f\"recordings{all_times_idx+1}\")\n",
        "    for chunk in range(len(all_times)):\n",
        "        print(f\"\\tchunk: {chunk}\")\n",
        "        for pop_name in [\"my_pop1\", \"my_pop2\"]:\n",
        "            print(f\"\\t\\tpop_name: {pop_name}\")\n",
        "            print(\n",
        "                f\"\\t\\trecording_array_size: {recordings_list[all_times_idx][chunk][f'{pop_name};v'].shape}\"\n",
        "            )\n",
        "            for time_point in [\"start\", \"stop\"]:\n",
        "                print(f\"\\t\\t\\ttime_point: {time_point}\")\n",
        "                for unit in [\"ms\", \"idx\"]:\n",
        "                    print(f\"\\t\\t\\t\\tunit: {unit}\")\n",
        "                    for period in range(\n",
        "                        len(all_times[chunk][pop_name][time_point][unit])\n",
        "                    ):\n",
        "                        print(\n",
        "                            f\"\\t\\t\\t\\t\\tperiod {period}: {all_times[chunk][pop_name][time_point][unit][period]}\"\n",
        "                        )\n",
        "print(\"#############################################################\")\n",
        "\n",
        "### plot recordings 1 consisting of 3 chunks\n",
        "for chunk in range(len(recordings1)):\n",
        "    ### using plot_recordings which plots the recordings of one chunk\n",
        "    PlotRecordings(\n",
        "        figname=f\"monitor_recordings_1_chunk{chunk}.png\",\n",
        "        recordings=recordings1,\n",
        "        recording_times=recording_times1,\n",
        "        shape=(2, 2),\n",
        "        plan={\n",
        "            \"position\": [1, 2, 3],\n",
        "            \"compartment\": [\"my_pop1\", \"my_pop2\", \"my_pop1\"],\n",
        "            \"variable\": [\"v\", \"v\", \"spike\"],\n",
        "            \"format\": [\"line\", \"line\", \"raster\"],\n",
        "        },\n",
        "        chunk=chunk,\n",
        "    )\n",
        "\n",
        "### plot recordings 2 consisting of 2 chunks\n",
        "for chunk in range(len(recordings2)):\n",
        "    ### using plot_recordings which plots the recordings of one chunk\n",
        "    PlotRecordings(\n",
        "        figname=f\"monitor_recordings_2_chunk{chunk}.png\",\n",
        "        recordings=recordings2,\n",
        "        recording_times=recording_times2,\n",
        "        shape=(2, 2),\n",
        "        plan={\n",
        "            \"position\": [1, 2, 3],\n",
        "            \"compartment\": [\"my_pop1\", \"my_pop2\", \"my_pop1\"],\n",
        "            \"variable\": [\"v\", \"v\", \"spike\"],\n",
        "            \"format\": [\"line\", \"line\", \"raster\"],\n",
        "        },\n",
        "        chunk=chunk,\n",
        "    )\n",
        "\n",
        "### plot recordings 3 consisting of 1 chunk\n",
        "for chunk in range(len(recordings3)):\n",
        "    ### using plot_recordings which plots the recordings of one chunk\n",
        "    PlotRecordings(\n",
        "        figname=f\"monitor_recordings_3_chunk{chunk}.png\",\n",
        "        recordings=recordings3,\n",
        "        recording_times=recording_times3,\n",
        "        shape=(2, 2),\n",
        "        plan={\n",
        "            \"position\": [1, 2, 3],\n",
        "            \"compartment\": [\"my_pop1\", \"my_pop2\", \"my_pop1\"],\n",
        "            \"variable\": [\"v\", \"v\", \"spike\"],\n",
        "            \"format\": [\"line\", \"line\", \"raster\"],\n",
        "        },\n",
        "        chunk=chunk,\n",
        "    )\n",
        "\n"
      ],
      "metadata": {
        "id": "Jt0QyXKIoqid"
      },
      "execution_count": null,
      "outputs": []
    },
    {
      "cell_type": "markdown",
      "source": [
        "#Display figures"
      ],
      "metadata": {
        "id": "dk85GsFd5Vw8"
      }
    },
    {
      "cell_type": "code",
      "source": [
        "display(Image(filename='monitor_recordings_1_chunk0.png', height=700))"
      ],
      "metadata": {
        "collapsed": true,
        "id": "6buxwMbaqKWP"
      },
      "execution_count": null,
      "outputs": []
    },
    {
      "cell_type": "code",
      "source": [
        "display(Image(filename='monitor_recordings_1_chunk1.png', height=700))"
      ],
      "metadata": {
        "id": "QygeB6NLqTJf"
      },
      "execution_count": null,
      "outputs": []
    }
  ]
}